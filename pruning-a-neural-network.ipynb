{
 "cells": [
  {
   "cell_type": "markdown",
   "metadata": {},
   "source": [
    "# 1. What is Pruning?"
   ]
  },
  {
   "cell_type": "markdown",
   "metadata": {},
   "source": [
    "Pruning is a way to reduce the size of a neural network by using compression. After a network is trained, it's weights are ranked according to their importance. A percentage of the weights are pruned away (as in set to zero), in accordance with their importance. We test the pruned model on a test set and if the performance still holds out, we prune more. \n",
    "\n",
    "We keep pruning until the performance remains satisfactory. The aim is to find the level of pruining that provides us with an acceptable compromise in performance for a decent reduction in the network size.\n",
    "\n",
    "There are two basic approaches of Pruning:\n",
    "\n",
    "* Weight Pruning\n",
    "\n",
    "Here the individual weights are ranked are ranked according to their magnitudes and the ones with small values are deemed less important. \n",
    "\n",
    "* Neuron pruining\n",
    "\n",
    "Here we rank entire neurons (units) according to their [L2 norm](https://en.wikipedia.org/wiki/Norm_(mathematics). The weights accociated with any neuron exist as columns in the weight matrices of a network. By setting entire columns to zero, we can essentially prune away entire neurons.\n",
    "\n",
    "Following figure is a good repesentative diagram. Note that a synapse refers to the connection between any two neurons. When a weight is pruned, essentially this connection disappears. And when all weights associated with a neuron are pruned, the neuron gets a sum total input of zero, so basically it does nothing, i.e disappears."
   ]
  },
  {
   "cell_type": "markdown",
   "metadata": {},
   "source": [
    "![](https://i.imgur.com/ya0PWGI.jpg)"
   ]
  },
  {
   "cell_type": "markdown",
   "metadata": {},
   "source": [
    "# 2. Importing Utilities"
   ]
  },
  {
   "cell_type": "markdown",
   "metadata": {},
   "source": [
    "### Libraries and Modules"
   ]
  },
  {
   "cell_type": "code",
   "execution_count": 1,
   "metadata": {
    "_cell_guid": "b1076dfc-b9ad-4769-8c92-a6c4dae69d19",
    "_uuid": "8f2839f25d086af736a60e9eeb907d3b93b6e0e5"
   },
   "outputs": [],
   "source": [
    "# Input data files are available in the \"../input/\" directory.\n",
    "# For example, running this (by clicking run or pressing Shift+Enter) will list all files under the input directory\n",
    "\n",
    "import os\n",
    "for dirname, _, filenames in os.walk('/kaggle/input'):\n",
    "    for filename in filenames:\n",
    "        print(os.path.join(dirname, filename))\n",
    "\n",
    "# Any results you write to the current directory are saved as output.\n",
    "\n",
    "import pandas as pd\n",
    "\n",
    "import numpy as np\n",
    "\n",
    "from matplotlib import pyplot as plt\n",
    "%matplotlib inline\n",
    "\n",
    "from sklearn.model_selection import train_test_split\n",
    "from tensorflow.keras.datasets import fashion_mnist\n",
    "from tensorflow.keras.utils import to_categorical\n",
    "from tensorflow.keras.models import Sequential\n",
    "from tensorflow.keras.layers import Dense, Activation\n",
    "from tensorflow.keras.optimizers import Adam\n",
    "from tensorflow.keras.callbacks import ModelCheckpoint\n",
    "from tensorflow.keras.models import load_model"
   ]
  },
  {
   "cell_type": "markdown",
   "metadata": {},
   "source": [
    "### Fashion MNIST dataset"
   ]
  },
  {
   "cell_type": "markdown",
   "metadata": {},
   "source": [
    "We will use the Fashion-MNIST dataset and train a vanilla Neural Network on it. Then we will apply various levels of pruning on it, and then test the pruned versions on the test set.\n",
    "\n",
    "Note - Trun on the internet in the settings of the Kernel."
   ]
  },
  {
   "cell_type": "code",
   "execution_count": 2,
   "metadata": {},
   "outputs": [
    {
     "name": "stdout",
     "output_type": "stream",
     "text": [
      "Downloading data from https://storage.googleapis.com/tensorflow/tf-keras-datasets/train-labels-idx1-ubyte.gz\n",
      "32768/29515 [=================================] - 0s 0us/step\n",
      "Downloading data from https://storage.googleapis.com/tensorflow/tf-keras-datasets/train-images-idx3-ubyte.gz\n",
      "26427392/26421880 [==============================] - 0s 0us/step\n",
      "Downloading data from https://storage.googleapis.com/tensorflow/tf-keras-datasets/t10k-labels-idx1-ubyte.gz\n",
      "8192/5148 [===============================================] - 0s 0us/step\n",
      "Downloading data from https://storage.googleapis.com/tensorflow/tf-keras-datasets/t10k-images-idx3-ubyte.gz\n",
      "4423680/4422102 [==============================] - 0s 0us/step\n"
     ]
    }
   ],
   "source": [
    "\n",
    "((X_train, Y_train), (X_test, Y_test)) = fashion_mnist.load_data()"
   ]
  },
  {
   "cell_type": "markdown",
   "metadata": {},
   "source": [
    "Create a dictionary of all classes in the target"
   ]
  },
  {
   "cell_type": "code",
   "execution_count": 3,
   "metadata": {
    "_cell_guid": "79c7e3d0-c299-4dcb-8224-4455121ee9b0",
    "_uuid": "d629ff2d2480ee46fbb7e2d37f6b5fab8052498a"
   },
   "outputs": [
    {
     "data": {
      "text/plain": [
       "{0: 'T-shirt',\n",
       " 1: 'Trouser',\n",
       " 2: 'Pullover',\n",
       " 3: 'Dress',\n",
       " 4: 'Code',\n",
       " 5: 'Sandal',\n",
       " 6: 'Shirt',\n",
       " 7: 'Sneaker',\n",
       " 8: 'Bag',\n",
       " 9: 'Ankle Boot'}"
      ]
     },
     "execution_count": 3,
     "metadata": {},
     "output_type": "execute_result"
    }
   ],
   "source": [
    "class_labels = pd.Series(['T-shirt', 'Trouser', 'Pullover', 'Dress', 'Code', 'Sandal', 'Shirt', 'Sneaker', 'Bag', 'Ankle Boot'])\n",
    "labels_dict = class_labels.to_dict()\n",
    "labels_dict"
   ]
  },
  {
   "cell_type": "markdown",
   "metadata": {},
   "source": [
    "Fetch 5 images at random from the training data, plot them and fetch their corresponding labels from the training targets."
   ]
  },
  {
   "cell_type": "code",
   "execution_count": 4,
   "metadata": {},
   "outputs": [
    {
     "data": {
      "image/png": "[encoded data removed]",
      "text/plain": [
       "<Figure size 432x288 with 1 Axes>"
      ]
     },
     "metadata": {
      "needs_background": "light"
     },
     "output_type": "display_data"
    },
    {
     "data": {
      "image/png": "[encoded data removed]",
      "text/plain": [
       "<Figure size 432x288 with 1 Axes>"
      ]
     },
     "metadata": {
      "needs_background": "light"
     },
     "output_type": "display_data"
    },
    {
     "data": {
      "image/png": "[encoded data removed]",
      "text/plain": [
       "<Figure size 432x288 with 1 Axes>"
      ]
     },
     "metadata": {
      "needs_background": "light"
     },
     "output_type": "display_data"
    },
    {
     "data": {
      "image/png": "[encoded data removed]",
      "text/plain": [
       "<Figure size 432x288 with 1 Axes>"
      ]
     },
     "metadata": {
      "needs_background": "light"
     },
     "output_type": "display_data"
    },
    {
     "data": {
      "image/png": "[encoded data removed]",
      "text/plain": [
       "<Figure size 432x288 with 1 Axes>"
      ]
     },
     "metadata": {
      "needs_background": "light"
     },
     "output_type": "display_data"
    }
   ],
   "source": [
    "np.random.seed(40)\n",
    "for rand_num in np.random.randint(0, len(X_train), 5):\n",
    "    plt.figure()\n",
    "    plt.imshow(X_train[rand_num]), plt.axis('off')\n",
    "    plt.title(labels_dict[Y_train[rand_num]])"
   ]
  },
  {
   "cell_type": "markdown",
   "metadata": {},
   "source": [
    "# 3. Data preprocessing"
   ]
  },
  {
   "cell_type": "markdown",
   "metadata": {},
   "source": [
    "### Reshaping input data, and normalizing it"
   ]
  },
  {
   "cell_type": "markdown",
   "metadata": {},
   "source": [
    "We will reshape the image data from 28x28 to 784x1, and normalize all values between 0 and 1."
   ]
  },
  {
   "cell_type": "code",
   "execution_count": 5,
   "metadata": {},
   "outputs": [],
   "source": [
    "X_train_reshaped = X_train.reshape(len(X_train), -1)   \n",
    "X_test_reshaped = X_test.reshape(len(X_test), -1)\n",
    "\n",
    "X_train_norm = X_train_reshaped/255            \n",
    "X_test_norm = X_test_reshaped/255"
   ]
  },
  {
   "cell_type": "code",
   "execution_count": 6,
   "metadata": {},
   "outputs": [
    {
     "name": "stdout",
     "output_type": "stream",
     "text": [
      "Number of input features (image pixels) :  784\n",
      "Number of target classes (fashion categories) :  10\n"
     ]
    }
   ],
   "source": [
    "n_features = X_train_norm.shape[1]\n",
    "n_classes =  len(class_labels)\n",
    "\n",
    "print('Number of input features (image pixels) : ', n_features)\n",
    "print('Number of target classes (fashion categories) : ', n_classes)"
   ]
  },
  {
   "cell_type": "markdown",
   "metadata": {},
   "source": [
    "### One-Hot transformation of Target Data"
   ]
  },
  {
   "cell_type": "code",
   "execution_count": 7,
   "metadata": {},
   "outputs": [],
   "source": [
    "Y_train_onehot = to_categorical(Y_train, num_classes = n_classes)\n",
    "Y_test_onehot = to_categorical(Y_test, num_classes = n_classes)"
   ]
  },
  {
   "cell_type": "markdown",
   "metadata": {},
   "source": [
    "### Creation of a Validation set"
   ]
  },
  {
   "cell_type": "markdown",
   "metadata": {},
   "source": [
    "We need to separate out a validation set from the training set, that is to be used while traing the network to keep an eye on overfitting ot underfitting."
   ]
  },
  {
   "cell_type": "code",
   "execution_count": 8,
   "metadata": {},
   "outputs": [
    {
     "name": "stdout",
     "output_type": "stream",
     "text": [
      "Shape of data used for training, and shape of training targets : \n",
      "  (60000, 28, 28) , (60000,)\n",
      "Shape of data used for validation, and shape of validation targets: \n",
      "  (10000, 784) , (10000, 10)\n"
     ]
    }
   ],
   "source": [
    "X_train_final, X_valid, Y_train_final, Y_valid = train_test_split(X_train_norm, Y_train_onehot, \n",
    "                                                                  test_size=0.16666)\n",
    "\n",
    "print('Shape of data used for training, and shape of training targets : \\n ', X_train.shape, ',', Y_train.shape)\n",
    "print('Shape of data used for validation, and shape of validation targets: \\n ', X_valid.shape, ',', Y_valid.shape)"
   ]
  },
  {
   "cell_type": "markdown",
   "metadata": {},
   "source": [
    "# 4. Neural Network set-up"
   ]
  },
  {
   "cell_type": "markdown",
   "metadata": {},
   "source": [
    "We will use five dense layers. We will set 'bias' to false for now, since that will make the weight matrices easier to work with. The weights of the final dense layers (the one leading to the output nodes) will not be pruned. But first, let's create the model and train it."
   ]
  },
  {
   "cell_type": "code",
   "execution_count": 9,
   "metadata": {},
   "outputs": [
    {
     "name": "stdout",
     "output_type": "stream",
     "text": [
      "Model: \"sequential\"\n",
      "_________________________________________________________________\n",
      "Layer (type)                 Output Shape              Param #   \n",
      "=================================================================\n",
      "dense (Dense)                (None, 1000)              784000    \n",
      "_________________________________________________________________\n",
      "dense_1 (Dense)              (None, 1000)              1000000   \n",
      "_________________________________________________________________\n",
      "dense_2 (Dense)              (None, 500)               500000    \n",
      "_________________________________________________________________\n",
      "dense_3 (Dense)              (None, 200)               100000    \n",
      "_________________________________________________________________\n",
      "dense_4 (Dense)              (None, 10)                2000      \n",
      "=================================================================\n",
      "Total params: 2,386,000\n",
      "Trainable params: 2,386,000\n",
      "Non-trainable params: 0\n",
      "_________________________________________________________________\n"
     ]
    }
   ],
   "source": [
    "model = Sequential()\n",
    "model.add(Dense(1000, input_dim = n_features, activation='relu', use_bias=False))\n",
    "model.add(Dense(1000, activation='relu', use_bias=False))\n",
    "model.add(Dense(500, activation='relu', use_bias=False))\n",
    "model.add(Dense(200, activation='relu', use_bias=False))\n",
    "model.add(Dense(n_classes, activation='softmax', use_bias=False))\n",
    "model.compile(loss='categorical_crossentropy', optimizer=Adam(0.0001), metrics=['accuracy'])\n",
    "\n",
    "model.summary()"
   ]
  },
  {
   "cell_type": "markdown",
   "metadata": {},
   "source": [
    "### Saving the model while it trains"
   ]
  },
  {
   "cell_type": "markdown",
   "metadata": {},
   "source": [
    "By using 'Callback' and 'ModelCheckpoint'utilities of Keras, we can save the model with the best weights. By 'best', I mean the ones that gave the best performance over the validation set while training. It checks if the performance of model with updated weights after every epoch is better than the performance of the saved model."
   ]
  },
  {
   "cell_type": "code",
   "execution_count": 10,
   "metadata": {},
   "outputs": [],
   "source": [
    "save_at = \"/kaggle/working/model.hdf5\"\n",
    "save_best = ModelCheckpoint (save_at, monitor='val_accuracy', verbose=0, \n",
    "                             save_best_only=True, save_weights_only=False, mode='max')"
   ]
  },
  {
   "cell_type": "markdown",
   "metadata": {},
   "source": [
    "### Training of Neural Network"
   ]
  },
  {
   "cell_type": "code",
   "execution_count": 11,
   "metadata": {},
   "outputs": [
    {
     "name": "stdout",
     "output_type": "stream",
     "text": [
      "Train on 50000 samples, validate on 10000 samples\n",
      "Epoch 1/12\n",
      "50000/50000 [==============================] - 33s 669us/sample - loss: 0.4893 - accuracy: 0.8275 - val_loss: 0.3888 - val_accuracy: 0.8583\n",
      "Epoch 2/12\n",
      "50000/50000 [==============================] - 32s 646us/sample - loss: 0.3511 - accuracy: 0.8726 - val_loss: 0.3551 - val_accuracy: 0.8687\n",
      "Epoch 3/12\n",
      "50000/50000 [==============================] - 32s 645us/sample - loss: 0.3095 - accuracy: 0.8874 - val_loss: 0.3184 - val_accuracy: 0.8817\n",
      "Epoch 4/12\n",
      "50000/50000 [==============================] - 32s 641us/sample - loss: 0.2810 - accuracy: 0.8956 - val_loss: 0.3310 - val_accuracy: 0.8793\n",
      "Epoch 5/12\n",
      "50000/50000 [==============================] - 34s 675us/sample - loss: 0.2559 - accuracy: 0.9039 - val_loss: 0.3324 - val_accuracy: 0.8834\n",
      "Epoch 6/12\n",
      "50000/50000 [==============================] - 32s 650us/sample - loss: 0.2370 - accuracy: 0.9114 - val_loss: 0.3154 - val_accuracy: 0.8883\n",
      "Epoch 7/12\n",
      "50000/50000 [==============================] - 32s 646us/sample - loss: 0.2202 - accuracy: 0.9173 - val_loss: 0.3073 - val_accuracy: 0.8915\n",
      "Epoch 8/12\n",
      "50000/50000 [==============================] - 32s 646us/sample - loss: 0.2036 - accuracy: 0.9238 - val_loss: 0.3281 - val_accuracy: 0.8871\n",
      "Epoch 9/12\n",
      "50000/50000 [==============================] - 33s 665us/sample - loss: 0.1918 - accuracy: 0.9267 - val_loss: 0.2932 - val_accuracy: 0.8985\n",
      "Epoch 10/12\n",
      "50000/50000 [==============================] - 33s 656us/sample - loss: 0.1793 - accuracy: 0.9313 - val_loss: 0.3126 - val_accuracy: 0.8979\n",
      "Epoch 11/12\n",
      " 1760/50000 [>.............................] - ETA: 30s - loss: 0.1333 - accuracy: 0.9432"
     ]
    }
   ],
   "source": [
    "history = model.fit( X_train_final, Y_train_final, \n",
    "                    epochs = 12, batch_size = 20, \n",
    "                    callbacks=[save_best], verbose=1, \n",
    "                    validation_data = (X_valid, Y_valid) )\n",
    "\n",
    "plt.figure(figsize=(6, 5))\n",
    "plt.plot(history.history['accuracy'], color='r')\n",
    "plt.plot(history.history['val_accuracy'], color='b')\n",
    "plt.title('Model Accuracy', weight='bold', fontsize=16)\n",
    "plt.ylabel('accuracy', weight='bold', fontsize=14)\n",
    "plt.xlabel('epoch', weight='bold', fontsize=14)\n",
    "plt.ylim(0.5, 1)\n",
    "plt.xticks(weight='bold', fontsize=12)\n",
    "plt.yticks(weight='bold', fontsize=12)\n",
    "plt.legend(['train', 'val'], loc='upper left', prop={'size': 14})\n",
    "plt.grid(color = 'y', linewidth='0.5')\n",
    "plt.show()"
   ]
  },
  {
   "cell_type": "markdown",
   "metadata": {},
   "source": [
    "### Testing \n",
    "Let's check the model's score on the test set"
   ]
  },
  {
   "cell_type": "code",
   "execution_count": 12,
   "metadata": {},
   "outputs": [
    {
     "name": "stdout",
     "output_type": "stream",
     "text": [
      "Accuracy over the test set: \n",
      "  88.07 %\n"
     ]
    }
   ],
   "source": [
    "score = model.evaluate(X_test_norm, Y_test_onehot, verbose=0)\n",
    "print('Accuracy over the test set: \\n ', round((score[1]*100), 2), '%')"
   ]
  },
  {
   "cell_type": "markdown",
   "metadata": {},
   "source": [
    "We will now plot 5 images at random from test set, but with titles as classified by the model, with every correct classification titled in 'green' color, and every incorrect classification titles in 'red' color."
   ]
  },
  {
   "cell_type": "code",
   "execution_count": 13,
   "metadata": {},
   "outputs": [
    {
     "data": {
      "image/png": "[encoded data removed]",
      "text/plain": [
       "<Figure size 432x288 with 1 Axes>"
      ]
     },
     "metadata": {
      "needs_background": "light"
     },
     "output_type": "display_data"
    },
    {
     "data": {
      "image/png": "[encoded data removed]",
      "text/plain": [
       "<Figure size 432x288 with 1 Axes>"
      ]
     },
     "metadata": {
      "needs_background": "light"
     },
     "output_type": "display_data"
    },
    {
     "data": {
      "image/png": "[encoded data removed]",
      "text/plain": [
       "<Figure size 432x288 with 1 Axes>"
      ]
     },
     "metadata": {
      "needs_background": "light"
     },
     "output_type": "display_data"
    },
    {
     "data": {
      "image/png": "[encoded data removed]",
      "text/plain": [
       "<Figure size 432x288 with 1 Axes>"
      ]
     },
     "metadata": {
      "needs_background": "light"
     },
     "output_type": "display_data"
    },
    {
     "data": {
      "image/png": "[encoded data removed]",
      "text/plain": [
       "<Figure size 432x288 with 1 Axes>"
      ]
     },
     "metadata": {
      "needs_background": "light"
     },
     "output_type": "display_data"
    }
   ],
   "source": [
    "Y_pred = np.round(model.predict(X_test_norm))\n",
    "\n",
    "np.random.seed(50)\n",
    "for rand_num in np.random.randint(0, len(Y_test_onehot), 5):\n",
    "    plt.figure()\n",
    "    plt.imshow(X_test[rand_num]), plt.axis('off')\n",
    "    if np.where(Y_pred[rand_num] == 1)[0].sum() == np.where(Y_test_onehot[rand_num] == 1)[0].sum():\n",
    "        plt.title(labels_dict[np.where(Y_pred[rand_num] == 1)[0].sum()], color='g')\n",
    "    else :\n",
    "        plt.title(labels_dict[np.where(Y_pred[rand_num] == 1)[0].sum()], color='r')"
   ]
  },
  {
   "cell_type": "markdown",
   "metadata": {},
   "source": [
    "# 5. Pruning Strategy"
   ]
  },
  {
   "cell_type": "markdown",
   "metadata": {},
   "source": [
    "The strategy is simple. The weights of the network will be accessed layer wise. Each layer has two weight matrices - first one for link weights, and the second one for bias weights of every neuron of that layer. Since we are not using biases, we only have to worry about one matrix per layer for now.\n",
    "\n",
    "For weight pruning, we will create a dictionary of the weights, with every key being a three valued tuple. The first value having the layer number, second and third values having the row and column number from that layer's weight matrix.\n",
    "\n",
    "Each row number is in fact the neuron number from previous layer, and each column number is the neuron number of that particular layer. So, for neuron pruning, unlike weight pruining where we want to create a weights dictionary, here we will have a dictionary that contains column arrays. The key will be a two valued tuple. First value representing the layer number, and the second one representing the column number.\n",
    "\n",
    "We will sort the weights in the weights dictionary according to their absolute values, and the weight vectors in the neuron dictionary according to their L2 norm.\n",
    "\n",
    "We will then map the weights (or columns) from the sorted dictionaries on to the trained neural network and set the weights (or columns) to zero to obtain our compresed Neural Networks (with the set pruing level)."
   ]
  },
  {
   "cell_type": "code",
   "execution_count": 14,
   "metadata": {},
   "outputs": [
    {
     "data": {
      "text/plain": [
       "[<tensorflow.python.keras.layers.core.Dense at 0x7fa0a40102e8>,\n",
       " <tensorflow.python.keras.layers.core.Dense at 0x7fa09d4f2198>,\n",
       " <tensorflow.python.keras.layers.core.Dense at 0x7fa09d4f2a90>,\n",
       " <tensorflow.python.keras.layers.core.Dense at 0x7fa09d4f2e48>,\n",
       " <tensorflow.python.keras.layers.core.Dense at 0x7fa09d47d6d8>]"
      ]
     },
     "execution_count": 14,
     "metadata": {},
     "output_type": "execute_result"
    }
   ],
   "source": [
    "trained_model = load_model(\"/kaggle/working/model.hdf5\")\n",
    "\n",
    "trained_model.layers"
   ]
  },
  {
   "cell_type": "code",
   "execution_count": 15,
   "metadata": {},
   "outputs": [
    {
     "name": "stdout",
     "output_type": "stream",
     "text": [
      "5\n"
     ]
    }
   ],
   "source": [
    "total_no_layers = len(trained_model.layers)\n",
    "print(total_no_layers)"
   ]
  },
  {
   "cell_type": "markdown",
   "metadata": {},
   "source": [
    "We will start with zero pruning and graudally increase the level of pruning up unit 99%, and keep checking the pruned model's performance after every increase."
   ]
  },
  {
   "cell_type": "code",
   "execution_count": 16,
   "metadata": {},
   "outputs": [],
   "source": [
    "#Pruning percentages\n",
    "\n",
    "K = [0, 25, 50, 60, 70, 80, 90, 95, 97, 99]   "
   ]
  },
  {
   "cell_type": "markdown",
   "metadata": {},
   "source": [
    "# 6. Weight Pruning"
   ]
  },
  {
   "cell_type": "code",
   "execution_count": 17,
   "metadata": {},
   "outputs": [],
   "source": [
    "all_weights = {}\n",
    "\n",
    "for layer_no in range(total_no_layers - 1):         #All except the final layer                                                                          #only the first four dense layers are to be pruned\n",
    "    layer_weights = (pd.DataFrame(trained_model.layers[layer_no].get_weights()[0]).stack()).to_dict() \n",
    "    layer_weights = { (layer_no, k[0], k[1]): v for k, v in layer_weights.items() }\n",
    "    all_weights.update(layer_weights)"
   ]
  },
  {
   "cell_type": "code",
   "execution_count": 18,
   "metadata": {},
   "outputs": [],
   "source": [
    "all_weights_sorted = {k: v for k, v in sorted(all_weights.items(), key=lambda item: abs(item[1]))}"
   ]
  },
  {
   "cell_type": "code",
   "execution_count": 19,
   "metadata": {},
   "outputs": [
    {
     "data": {
      "text/plain": [
       "2384000"
      ]
     },
     "execution_count": 19,
     "metadata": {},
     "output_type": "execute_result"
    }
   ],
   "source": [
    "total_no_weights = len(all_weights_sorted) \n",
    "total_no_weights "
   ]
  },
  {
   "cell_type": "code",
   "execution_count": 20,
   "metadata": {},
   "outputs": [],
   "source": [
    "weight_pruning_scores = []\n",
    "\n",
    "for pruning_percent in K:\n",
    "\n",
    "    new_model = load_model(\"/kaggle/working/model.hdf5\")\n",
    "    new_weights = trained_model.get_weights().copy()\n",
    "\n",
    "    prune_fraction = pruning_percent/100\n",
    "    number_of_weights_to_be_pruned = int(prune_fraction*total_no_weights)\n",
    "    weights_to_be_pruned = {k: all_weights_sorted[k] for k in list(all_weights_sorted)[ :  number_of_weights_to_be_pruned]}     \n",
    "\n",
    "    for k, v in weights_to_be_pruned.items():\n",
    "        new_weights[k[0]][k[1], k[2]] = 0\n",
    "\n",
    "    for layer_no in range(total_no_layers - 1) :\n",
    "        new_layer_weights = new_weights[layer_no].reshape(1, new_weights[layer_no].shape[0], new_weights[layer_no].shape[1])\n",
    "        new_model.layers[layer_no].set_weights(new_layer_weights)\n",
    "    \n",
    "    new_score  = new_model.evaluate(X_test_norm, Y_test_onehot, verbose=0)\n",
    "    weight_pruning_scores .append(new_score[1])"
   ]
  },
  {
   "cell_type": "markdown",
   "metadata": {},
   "source": [
    "# 7. Neuron Pruning"
   ]
  },
  {
   "cell_type": "code",
   "execution_count": 21,
   "metadata": {},
   "outputs": [],
   "source": [
    "all_neurons = {}\n",
    "\n",
    "for layer_no in range(total_no_layers - 1):         \n",
    "\n",
    "    layer_neurons = {}\n",
    "    layer_neurons_df = pd.DataFrame(trained_model.layers[layer_no].get_weights()[0])\n",
    "\n",
    "    for i in range(len(layer_neurons_df.columns)):\n",
    "        layer_neurons.update({ i : np.array( layer_neurons_df.iloc[:,i] ) })    \n",
    "                                                                 \n",
    "    layer_neurons = { (layer_no, k): v for k, v in layer_neurons.items() }\n",
    "    all_neurons.update(layer_neurons)"
   ]
  },
  {
   "cell_type": "code",
   "execution_count": 22,
   "metadata": {},
   "outputs": [],
   "source": [
    "all_neurons_sorted = {k: v for k, v in sorted(all_neurons.items(), key=lambda item: np.linalg.norm(item[1], ord=2, axis=0))}"
   ]
  },
  {
   "cell_type": "code",
   "execution_count": 23,
   "metadata": {},
   "outputs": [
    {
     "data": {
      "text/plain": [
       "2700"
      ]
     },
     "execution_count": 23,
     "metadata": {},
     "output_type": "execute_result"
    }
   ],
   "source": [
    "total_no_neurons = len(all_neurons_sorted) \n",
    "total_no_neurons "
   ]
  },
  {
   "cell_type": "code",
   "execution_count": 24,
   "metadata": {},
   "outputs": [],
   "source": [
    "neuron_pruning_scores = []\n",
    "\n",
    "for pruning_percent in K:\n",
    "\n",
    "    new_model = load_model(\"/kaggle/working/model.hdf5\")\n",
    "    new_weights = trained_model.get_weights().copy()\n",
    "\n",
    "    prune_fraction = pruning_percent/100\n",
    "    number_of_neurons_to_be_pruned = int(prune_fraction*total_no_neurons)\n",
    "    neurons_to_be_pruned = {k: all_neurons_sorted[k] for k in list(all_neurons_sorted)[ : number_of_neurons_to_be_pruned]}     \n",
    "\n",
    "    for k, v in neurons_to_be_pruned.items():\n",
    "        new_weights[k[0]][:, k[1]] = 0\n",
    "\n",
    "    for layer_no in range(total_no_layers - 1) :\n",
    "        new_layer_weights = new_weights[layer_no].reshape(1, new_weights[layer_no].shape[0], new_weights[layer_no].shape[1])\n",
    "        new_model.layers[layer_no].set_weights(new_layer_weights)\n",
    "    \n",
    "    new_score  = new_model.evaluate(X_test_norm, Y_test_onehot, verbose=0)\n",
    "    neuron_pruning_scores.append(new_score[1])"
   ]
  },
  {
   "cell_type": "markdown",
   "metadata": {},
   "source": [
    "# 8. Pruning Results"
   ]
  },
  {
   "cell_type": "code",
   "execution_count": 25,
   "metadata": {},
   "outputs": [
    {
     "data": {
      "image/png": "[encoded data removed]",
      "text/plain": [
       "<Figure size 576x288 with 1 Axes>"
      ]
     },
     "metadata": {
      "needs_background": "light"
     },
     "output_type": "display_data"
    }
   ],
   "source": [
    "plt.figure(figsize=(8, 4))\n",
    "plt.plot(pd.DataFrame(weight_pruning_scores).set_index(pd.Series(K), drop=True) , color='r')\n",
    "plt.plot(pd.DataFrame(neuron_pruning_scores).set_index(pd.Series(K), drop=True) , color='b')\n",
    "plt.title('Effect of Pruning on accuracy', weight='bold', fontsize=16)\n",
    "plt.ylabel('Score', weight='bold', fontsize=14)\n",
    "plt.xlabel('Pruning Percentage (K)', weight='bold', fontsize=14)\n",
    "plt.xticks(weight='bold', fontsize=12)\n",
    "plt.yticks(weight='bold', fontsize=12)\n",
    "plt.legend(['Weight Pruning', 'Neuron Pruning'], loc='best', prop={'size': 14})\n",
    "plt.grid(color = 'y', linewidth='0.5')\n",
    "plt.show()"
   ]
  },
  {
   "cell_type": "markdown",
   "metadata": {},
   "source": [
    "# 9. Observations\n",
    "\n",
    "We are able to prune upto 60% of the weights with a tolerable dip in accuracy.\n",
    "\n",
    "We are able to prune upto 15% of the neurons with a tolerable dip in accuracy.\n",
    "\n",
    "For weight pruining as high a 80%, the accuracy of the pruned model is still decent. \n",
    "\n",
    "This suggests that Neural Networks are highly robust. Even if a large protion of the less significant weights are removed, the other significant weights are still able to generate a good enough result."
   ]
  }
 ],
 "metadata": {
  "kernelspec": {
   "display_name": "Python 3",
   "language": "python",
   "name": "python3"
  },
  "language_info": {
   "codemirror_mode": {
    "name": "ipython",
    "version": 3
   },
   "file_extension": ".py",
   "mimetype": "text/x-python",
   "name": "python",
   "nbconvert_exporter": "python",
   "pygments_lexer": "ipython3",
   "version": "3.6.6"
  }
 },
 "nbformat": 4,
 "nbformat_minor": 1
}
